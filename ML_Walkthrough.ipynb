{
 "cells": [
  {
   "cell_type": "markdown",
   "source": [
    "# __Simple Machine Learning Project: A Walkthrough__\r\n",
    "## __Table of Contents__:\r\n",
    "### 0.) Dataset Description\r\n",
    "### 1.) Data Cleaning\r\n",
    "### 2.) Feature Engineering\r\n",
    "### 3.) Feature Selection\r\n",
    "### 4.) Model Performance\r\n",
    "\r\n",
    "## __Data Description__:\r\n",
    "For this walkthrough we'll be using the Concrete Dataset found [here](https://www.kaggle.com/maajdl/yeh-concret-data). We'll be predicting the Compressive Strength of Concrete given its Age and its ingredients. Some Features include:\r\n",
    "Water(kg), Cement(kg), Age(days) etc. <blockquote> \"Concrete is the most important material in civil engineering. Concrete compressive strength is a highly nonlinear function of age and ingredients.[maajdl](https://www.kaggle.com/maajdl)\"</blockquote>\r\n",
    "### __Run the cell below to check out the structure of the dataset:__"
   ],
   "metadata": {}
  },
  {
   "cell_type": "code",
   "execution_count": 2,
   "source": [
    "from exploratoryDataAnalysis import *\r\n",
    "_,_,df = loadData()\r\n",
    "df.head(10)"
   ],
   "outputs": [
    {
     "output_type": "execute_result",
     "data": {
      "text/plain": [
       "   Cement   Slag  Ash  Water  ...  CoarseAgg  FineAgg  Age  CompressiveStrength\n",
       "0   540.0    0.0  0.0  162.0  ...     1040.0    676.0   28                79.99\n",
       "1   540.0    0.0  0.0  162.0  ...     1055.0    676.0   28                61.89\n",
       "2   332.5  142.5  0.0  228.0  ...      932.0    594.0  270                40.27\n",
       "3   332.5  142.5  0.0  228.0  ...      932.0    594.0  365                41.05\n",
       "4   198.6  132.4  0.0  192.0  ...      978.4    825.5  360                44.30\n",
       "5   266.0  114.0  0.0  228.0  ...      932.0    670.0   90                47.03\n",
       "6   380.0   95.0  0.0  228.0  ...      932.0    594.0  365                43.70\n",
       "7   380.0   95.0  0.0  228.0  ...      932.0    594.0   28                36.45\n",
       "8   266.0  114.0  0.0  228.0  ...      932.0    670.0   28                45.85\n",
       "9   475.0    0.0  0.0  228.0  ...      932.0    594.0   28                39.29\n",
       "\n",
       "[10 rows x 9 columns]"
      ],
      "text/html": [
       "<div>\n",
       "<style scoped>\n",
       "    .dataframe tbody tr th:only-of-type {\n",
       "        vertical-align: middle;\n",
       "    }\n",
       "\n",
       "    .dataframe tbody tr th {\n",
       "        vertical-align: top;\n",
       "    }\n",
       "\n",
       "    .dataframe thead th {\n",
       "        text-align: right;\n",
       "    }\n",
       "</style>\n",
       "<table border=\"1\" class=\"dataframe\">\n",
       "  <thead>\n",
       "    <tr style=\"text-align: right;\">\n",
       "      <th></th>\n",
       "      <th>Cement</th>\n",
       "      <th>Slag</th>\n",
       "      <th>Ash</th>\n",
       "      <th>Water</th>\n",
       "      <th>Plasticizer</th>\n",
       "      <th>CoarseAgg</th>\n",
       "      <th>FineAgg</th>\n",
       "      <th>Age</th>\n",
       "      <th>CompressiveStrength</th>\n",
       "    </tr>\n",
       "  </thead>\n",
       "  <tbody>\n",
       "    <tr>\n",
       "      <th>0</th>\n",
       "      <td>540.0</td>\n",
       "      <td>0.0</td>\n",
       "      <td>0.0</td>\n",
       "      <td>162.0</td>\n",
       "      <td>2.5</td>\n",
       "      <td>1040.0</td>\n",
       "      <td>676.0</td>\n",
       "      <td>28</td>\n",
       "      <td>79.99</td>\n",
       "    </tr>\n",
       "    <tr>\n",
       "      <th>1</th>\n",
       "      <td>540.0</td>\n",
       "      <td>0.0</td>\n",
       "      <td>0.0</td>\n",
       "      <td>162.0</td>\n",
       "      <td>2.5</td>\n",
       "      <td>1055.0</td>\n",
       "      <td>676.0</td>\n",
       "      <td>28</td>\n",
       "      <td>61.89</td>\n",
       "    </tr>\n",
       "    <tr>\n",
       "      <th>2</th>\n",
       "      <td>332.5</td>\n",
       "      <td>142.5</td>\n",
       "      <td>0.0</td>\n",
       "      <td>228.0</td>\n",
       "      <td>0.0</td>\n",
       "      <td>932.0</td>\n",
       "      <td>594.0</td>\n",
       "      <td>270</td>\n",
       "      <td>40.27</td>\n",
       "    </tr>\n",
       "    <tr>\n",
       "      <th>3</th>\n",
       "      <td>332.5</td>\n",
       "      <td>142.5</td>\n",
       "      <td>0.0</td>\n",
       "      <td>228.0</td>\n",
       "      <td>0.0</td>\n",
       "      <td>932.0</td>\n",
       "      <td>594.0</td>\n",
       "      <td>365</td>\n",
       "      <td>41.05</td>\n",
       "    </tr>\n",
       "    <tr>\n",
       "      <th>4</th>\n",
       "      <td>198.6</td>\n",
       "      <td>132.4</td>\n",
       "      <td>0.0</td>\n",
       "      <td>192.0</td>\n",
       "      <td>0.0</td>\n",
       "      <td>978.4</td>\n",
       "      <td>825.5</td>\n",
       "      <td>360</td>\n",
       "      <td>44.30</td>\n",
       "    </tr>\n",
       "    <tr>\n",
       "      <th>5</th>\n",
       "      <td>266.0</td>\n",
       "      <td>114.0</td>\n",
       "      <td>0.0</td>\n",
       "      <td>228.0</td>\n",
       "      <td>0.0</td>\n",
       "      <td>932.0</td>\n",
       "      <td>670.0</td>\n",
       "      <td>90</td>\n",
       "      <td>47.03</td>\n",
       "    </tr>\n",
       "    <tr>\n",
       "      <th>6</th>\n",
       "      <td>380.0</td>\n",
       "      <td>95.0</td>\n",
       "      <td>0.0</td>\n",
       "      <td>228.0</td>\n",
       "      <td>0.0</td>\n",
       "      <td>932.0</td>\n",
       "      <td>594.0</td>\n",
       "      <td>365</td>\n",
       "      <td>43.70</td>\n",
       "    </tr>\n",
       "    <tr>\n",
       "      <th>7</th>\n",
       "      <td>380.0</td>\n",
       "      <td>95.0</td>\n",
       "      <td>0.0</td>\n",
       "      <td>228.0</td>\n",
       "      <td>0.0</td>\n",
       "      <td>932.0</td>\n",
       "      <td>594.0</td>\n",
       "      <td>28</td>\n",
       "      <td>36.45</td>\n",
       "    </tr>\n",
       "    <tr>\n",
       "      <th>8</th>\n",
       "      <td>266.0</td>\n",
       "      <td>114.0</td>\n",
       "      <td>0.0</td>\n",
       "      <td>228.0</td>\n",
       "      <td>0.0</td>\n",
       "      <td>932.0</td>\n",
       "      <td>670.0</td>\n",
       "      <td>28</td>\n",
       "      <td>45.85</td>\n",
       "    </tr>\n",
       "    <tr>\n",
       "      <th>9</th>\n",
       "      <td>475.0</td>\n",
       "      <td>0.0</td>\n",
       "      <td>0.0</td>\n",
       "      <td>228.0</td>\n",
       "      <td>0.0</td>\n",
       "      <td>932.0</td>\n",
       "      <td>594.0</td>\n",
       "      <td>28</td>\n",
       "      <td>39.29</td>\n",
       "    </tr>\n",
       "  </tbody>\n",
       "</table>\n",
       "</div>"
      ]
     },
     "metadata": {},
     "execution_count": 2
    }
   ],
   "metadata": {}
  },
  {
   "cell_type": "markdown",
   "source": [
    "## __Data Cleaning__:\r\n",
    "Let's have a look at the data! First let's check for any missing values."
   ],
   "metadata": {}
  },
  {
   "cell_type": "code",
   "execution_count": 3,
   "source": [
    "df.isna().sum()"
   ],
   "outputs": [
    {
     "output_type": "execute_result",
     "data": {
      "text/plain": [
       "Cement                 0\n",
       "Slag                   0\n",
       "Ash                    0\n",
       "Water                  0\n",
       "Plasticizer            0\n",
       "CoarseAgg              0\n",
       "FineAgg                0\n",
       "Age                    0\n",
       "CompressiveStrength    0\n",
       "dtype: int64"
      ]
     },
     "metadata": {},
     "execution_count": 3
    }
   ],
   "metadata": {}
  },
  {
   "cell_type": "markdown",
   "source": [
    "Thankfully, there are none. In the wild, our data will almost certainly contain missing values, which we'll either have to impute(replace with estimates) or drop from the data.\r\n",
    "Next, we'll look at some useful statistics."
   ],
   "metadata": {}
  },
  {
   "cell_type": "code",
   "execution_count": 4,
   "source": [
    "summaryStatistics(df)"
   ],
   "outputs": [
    {
     "output_type": "execute_result",
     "data": {
      "text/plain": [
       "(            Cement         Slag  ...          Age  CompressiveStrength\n",
       " count  1030.000000  1030.000000  ...  1030.000000          1030.000000\n",
       " mean    281.167864    73.895825  ...    45.662136            35.817961\n",
       " std     104.506364    86.279342  ...    63.169912            16.705742\n",
       " min     102.000000     0.000000  ...     1.000000             2.330000\n",
       " 25%     192.375000     0.000000  ...     7.000000            23.710000\n",
       " 50%     272.900000    22.000000  ...    28.000000            34.445000\n",
       " 75%     350.000000   142.950000  ...    56.000000            46.135000\n",
       " max     540.000000   359.400000  ...   365.000000            82.600000\n",
       " \n",
       " [8 rows x 9 columns],\n",
       " Cement                 float64\n",
       " Slag                   float64\n",
       " Ash                    float64\n",
       " Water                  float64\n",
       " Plasticizer            float64\n",
       " CoarseAgg              float64\n",
       " FineAgg                float64\n",
       " Age                      int64\n",
       " CompressiveStrength    float64\n",
       " dtype: object)"
      ]
     },
     "metadata": {},
     "execution_count": 4
    }
   ],
   "metadata": {}
  },
  {
   "cell_type": "markdown",
   "source": [
    "We can gleen from the datatypes portion that we are only dealing with numerical data. But the summary statistics are hard to interpret, we'll look at the distribution of our features to enrich our understanding. "
   ],
   "metadata": {}
  },
  {
   "cell_type": "code",
   "execution_count": 5,
   "source": [
    "featureDistributions(df)\r\n",
    "boxPlots(df)"
   ],
   "outputs": [
    {
     "output_type": "display_data",
     "data": {
      "text/plain": [
       "<Figure size 360x360 with 1 Axes>"
      ],
      "image/png": "[encoded data removed]"
     },
     "metadata": {
      "needs_background": "light"
     }
    },
    {
     "output_type": "display_data",
     "data": {
      "text/plain": [
       "<Figure size 360x360 with 1 Axes>"
      ],
      "image/png": "[encoded data removed]"
     },
     "metadata": {
      "needs_background": "light"
     }
    },
    {
     "output_type": "display_data",
     "data": {
      "text/plain": [
       "<Figure size 360x360 with 1 Axes>"
      ],
      "image/png": "[encoded data removed]"
     },
     "metadata": {
      "needs_background": "light"
     }
    },
    {
     "output_type": "display_data",
     "data": {
      "text/plain": [
       "<Figure size 360x360 with 1 Axes>"
      ],
      "image/png": "[encoded data removed]"
     },
     "metadata": {
      "needs_background": "light"
     }
    },
    {
     "output_type": "display_data",
     "data": {
      "text/plain": [
       "<Figure size 360x360 with 1 Axes>"
      ],
      "image/png": "[encoded data removed]"
     },
     "metadata": {
      "needs_background": "light"
     }
    },
    {
     "output_type": "display_data",
     "data": {
      "text/plain": [
       "<Figure size 360x360 with 1 Axes>"
      ],
      "image/png": "[encoded data removed]"
     },
     "metadata": {
      "needs_background": "light"
     }
    },
    {
     "output_type": "display_data",
     "data": {
      "text/plain": [
       "<Figure size 360x360 with 1 Axes>"
      ],
      "image/png": "[encoded data removed]"
     },
     "metadata": {
      "needs_background": "light"
     }
    },
    {
     "output_type": "display_data",
     "data": {
      "text/plain": [
       "<Figure size 360x360 with 1 Axes>"
      ],
      "image/png": "[encoded data removed]"
     },
     "metadata": {
      "needs_background": "light"
     }
    },
    {
     "output_type": "display_data",
     "data": {
      "text/plain": [
       "<Figure size 360x360 with 1 Axes>"
      ],
      "image/png": "[encoded data removed]"
     },
     "metadata": {
      "needs_background": "light"
     }
    },
    {
     "output_type": "display_data",
     "data": {
      "text/plain": [
       "<Figure size 432x288 with 1 Axes>"
      ],
      "image/png": "[encoded data removed]"
     },
     "metadata": {
      "needs_background": "light"
     }
    },
    {
     "output_type": "display_data",
     "data": {
      "text/plain": [
       "<Figure size 432x288 with 1 Axes>"
      ],
      "image/png": "[encoded data removed]"
     },
     "metadata": {
      "needs_background": "light"
     }
    },
    {
     "output_type": "display_data",
     "data": {
      "text/plain": [
       "<Figure size 432x288 with 1 Axes>"
      ],
      "image/png": "[encoded data removed]"
     },
     "metadata": {
      "needs_background": "light"
     }
    },
    {
     "output_type": "display_data",
     "data": {
      "text/plain": [
       "<Figure size 432x288 with 1 Axes>"
      ],
      "image/png": "[encoded data removed]"
     },
     "metadata": {
      "needs_background": "light"
     }
    },
    {
     "output_type": "display_data",
     "data": {
      "text/plain": [
       "<Figure size 432x288 with 1 Axes>"
      ],
      "image/png": "[encoded data removed]"
     },
     "metadata": {
      "needs_background": "light"
     }
    },
    {
     "output_type": "display_data",
     "data": {
      "text/plain": [
       "<Figure size 432x288 with 1 Axes>"
      ],
      "image/png": "[encoded data removed]"
     },
     "metadata": {
      "needs_background": "light"
     }
    },
    {
     "output_type": "display_data",
     "data": {
      "text/plain": [
       "<Figure size 432x288 with 1 Axes>"
      ],
      "image/png": "[encoded data removed]"
     },
     "metadata": {
      "needs_background": "light"
     }
    },
    {
     "output_type": "display_data",
     "data": {
      "text/plain": [
       "<Figure size 432x288 with 1 Axes>"
      ],
      "image/png": "[encoded data removed]"
     },
     "metadata": {
      "needs_background": "light"
     }
    },
    {
     "output_type": "display_data",
     "data": {
      "text/plain": [
       "<Figure size 432x288 with 1 Axes>"
      ],
      "image/png": "[encoded data removed]"
     },
     "metadata": {
      "needs_background": "light"
     }
    }
   ],
   "metadata": {}
  },
  {
   "cell_type": "markdown",
   "source": [
    "Cement, Slag, Ash and others look left skewed, and those dots outside of the minimum and maximum lines of the box plots are outliers. The distributions of our features are not Gaussian(normal)-like. The success of many Machine Learning algorithms depends on the features being normally distributed. The method we will use to detect outliers relies on this assumption as well. So we'll go ahead transform our features to make them normally distributed by taking their square root, the log transform is also very popular but doesn't work when features contains 0's."
   ],
   "metadata": {}
  },
  {
   "cell_type": "code",
   "execution_count": 6,
   "source": [
    "from featureEngineering import *\r\n",
    "df = transformFeatures(df)\r\n",
    "df.head(10)"
   ],
   "outputs": [
    {
     "output_type": "execute_result",
     "data": {
      "text/plain": [
       "      Cement       Slag  Ash  ...    FineAgg        Age  CompressiveStrength\n",
       "0  23.237900   0.000000  0.0  ...  26.000000   5.291503                79.99\n",
       "1  23.237900   0.000000  0.0  ...  26.000000   5.291503                61.89\n",
       "2  18.234583  11.937336  0.0  ...  24.372115  16.431677                40.27\n",
       "3  18.234583  11.937336  0.0  ...  24.372115  19.104973                41.05\n",
       "4  14.092551  11.506520  0.0  ...  28.731516  18.973666                44.30\n",
       "5  16.309506  10.677078  0.0  ...  25.884358   9.486833                47.03\n",
       "6  19.493589   9.746794  0.0  ...  24.372115  19.104973                43.70\n",
       "7  19.493589   9.746794  0.0  ...  24.372115   5.291503                36.45\n",
       "8  16.309506  10.677078  0.0  ...  25.884358   5.291503                45.85\n",
       "9  21.794495   0.000000  0.0  ...  24.372115   5.291503                39.29\n",
       "\n",
       "[10 rows x 9 columns]"
      ],
      "text/html": [
       "<div>\n",
       "<style scoped>\n",
       "    .dataframe tbody tr th:only-of-type {\n",
       "        vertical-align: middle;\n",
       "    }\n",
       "\n",
       "    .dataframe tbody tr th {\n",
       "        vertical-align: top;\n",
       "    }\n",
       "\n",
       "    .dataframe thead th {\n",
       "        text-align: right;\n",
       "    }\n",
       "</style>\n",
       "<table border=\"1\" class=\"dataframe\">\n",
       "  <thead>\n",
       "    <tr style=\"text-align: right;\">\n",
       "      <th></th>\n",
       "      <th>Cement</th>\n",
       "      <th>Slag</th>\n",
       "      <th>Ash</th>\n",
       "      <th>Water</th>\n",
       "      <th>Plasticizer</th>\n",
       "      <th>CoarseAgg</th>\n",
       "      <th>FineAgg</th>\n",
       "      <th>Age</th>\n",
       "      <th>CompressiveStrength</th>\n",
       "    </tr>\n",
       "  </thead>\n",
       "  <tbody>\n",
       "    <tr>\n",
       "      <th>0</th>\n",
       "      <td>23.237900</td>\n",
       "      <td>0.000000</td>\n",
       "      <td>0.0</td>\n",
       "      <td>12.727922</td>\n",
       "      <td>1.581139</td>\n",
       "      <td>32.249031</td>\n",
       "      <td>26.000000</td>\n",
       "      <td>5.291503</td>\n",
       "      <td>79.99</td>\n",
       "    </tr>\n",
       "    <tr>\n",
       "      <th>1</th>\n",
       "      <td>23.237900</td>\n",
       "      <td>0.000000</td>\n",
       "      <td>0.0</td>\n",
       "      <td>12.727922</td>\n",
       "      <td>1.581139</td>\n",
       "      <td>32.480764</td>\n",
       "      <td>26.000000</td>\n",
       "      <td>5.291503</td>\n",
       "      <td>61.89</td>\n",
       "    </tr>\n",
       "    <tr>\n",
       "      <th>2</th>\n",
       "      <td>18.234583</td>\n",
       "      <td>11.937336</td>\n",
       "      <td>0.0</td>\n",
       "      <td>15.099669</td>\n",
       "      <td>0.000000</td>\n",
       "      <td>30.528675</td>\n",
       "      <td>24.372115</td>\n",
       "      <td>16.431677</td>\n",
       "      <td>40.27</td>\n",
       "    </tr>\n",
       "    <tr>\n",
       "      <th>3</th>\n",
       "      <td>18.234583</td>\n",
       "      <td>11.937336</td>\n",
       "      <td>0.0</td>\n",
       "      <td>15.099669</td>\n",
       "      <td>0.000000</td>\n",
       "      <td>30.528675</td>\n",
       "      <td>24.372115</td>\n",
       "      <td>19.104973</td>\n",
       "      <td>41.05</td>\n",
       "    </tr>\n",
       "    <tr>\n",
       "      <th>4</th>\n",
       "      <td>14.092551</td>\n",
       "      <td>11.506520</td>\n",
       "      <td>0.0</td>\n",
       "      <td>13.856406</td>\n",
       "      <td>0.000000</td>\n",
       "      <td>31.279386</td>\n",
       "      <td>28.731516</td>\n",
       "      <td>18.973666</td>\n",
       "      <td>44.30</td>\n",
       "    </tr>\n",
       "    <tr>\n",
       "      <th>5</th>\n",
       "      <td>16.309506</td>\n",
       "      <td>10.677078</td>\n",
       "      <td>0.0</td>\n",
       "      <td>15.099669</td>\n",
       "      <td>0.000000</td>\n",
       "      <td>30.528675</td>\n",
       "      <td>25.884358</td>\n",
       "      <td>9.486833</td>\n",
       "      <td>47.03</td>\n",
       "    </tr>\n",
       "    <tr>\n",
       "      <th>6</th>\n",
       "      <td>19.493589</td>\n",
       "      <td>9.746794</td>\n",
       "      <td>0.0</td>\n",
       "      <td>15.099669</td>\n",
       "      <td>0.000000</td>\n",
       "      <td>30.528675</td>\n",
       "      <td>24.372115</td>\n",
       "      <td>19.104973</td>\n",
       "      <td>43.70</td>\n",
       "    </tr>\n",
       "    <tr>\n",
       "      <th>7</th>\n",
       "      <td>19.493589</td>\n",
       "      <td>9.746794</td>\n",
       "      <td>0.0</td>\n",
       "      <td>15.099669</td>\n",
       "      <td>0.000000</td>\n",
       "      <td>30.528675</td>\n",
       "      <td>24.372115</td>\n",
       "      <td>5.291503</td>\n",
       "      <td>36.45</td>\n",
       "    </tr>\n",
       "    <tr>\n",
       "      <th>8</th>\n",
       "      <td>16.309506</td>\n",
       "      <td>10.677078</td>\n",
       "      <td>0.0</td>\n",
       "      <td>15.099669</td>\n",
       "      <td>0.000000</td>\n",
       "      <td>30.528675</td>\n",
       "      <td>25.884358</td>\n",
       "      <td>5.291503</td>\n",
       "      <td>45.85</td>\n",
       "    </tr>\n",
       "    <tr>\n",
       "      <th>9</th>\n",
       "      <td>21.794495</td>\n",
       "      <td>0.000000</td>\n",
       "      <td>0.0</td>\n",
       "      <td>15.099669</td>\n",
       "      <td>0.000000</td>\n",
       "      <td>30.528675</td>\n",
       "      <td>24.372115</td>\n",
       "      <td>5.291503</td>\n",
       "      <td>39.29</td>\n",
       "    </tr>\n",
       "  </tbody>\n",
       "</table>\n",
       "</div>"
      ]
     },
     "metadata": {},
     "execution_count": 6
    }
   ],
   "metadata": {}
  },
  {
   "cell_type": "markdown",
   "source": [
    "Now we'll wrap up the data cleaning by removing outliers. We'll do that by taking the Z-score:(x-mean)/standardDeviation of the features. The Z-score will tell us how many standard deviations away our data is from the mean. If it's too far, in our case greater than 2.5, we'll remove it from our dataset."
   ],
   "metadata": {}
  },
  {
   "cell_type": "code",
   "execution_count": 7,
   "source": [
    "print(len(df))\r\n",
    "_,_,df = findAndRemoveOutliers(df)\r\n",
    "print(len(df))"
   ],
   "outputs": [
    {
     "output_type": "stream",
     "name": "stdout",
     "text": [
      "1030\n",
      "983\n"
     ]
    }
   ],
   "metadata": {}
  },
  {
   "cell_type": "markdown",
   "source": [
    "As you can see, we've dropped a few rows from our database.\r\n",
    "## __Feature Engineering__:\r\n",
    "Now that our data is clean, we can begin Feature Engineering (technically, our sqrt transform was feature engineering). In our case, this will only involve feature creation. We will combine our features in interesting ways to create new features. In principle, some of these features would be hard for our ML algorithms to find without a little help.\r\n",
    "We will take every product and ratio of every pair of features, and add them to our dataset as new features.\r\n"
   ],
   "metadata": {}
  },
  {
   "cell_type": "code",
   "execution_count": 8,
   "source": [
    "df = featureCreation(df)\r\n",
    "print(\"Here are a few of the features:\")\r\n",
    "df.columns.tolist()[15:30]"
   ],
   "outputs": [
    {
     "output_type": "stream",
     "name": "stdout",
     "text": [
      "Here are a few of the features:\n"
     ]
    },
    {
     "output_type": "execute_result",
     "data": {
      "text/plain": [
       "['Cement/Plasticizer',\n",
       " 'Cement*Plasticizer',\n",
       " 'Cement/CoarseAgg',\n",
       " 'Cement*CoarseAgg',\n",
       " 'Cement/FineAgg',\n",
       " 'Cement*FineAgg',\n",
       " 'Cement/Age',\n",
       " 'Cement*Age',\n",
       " 'Slag_Sqrd',\n",
       " 'Slag/Cement',\n",
       " 'Slag*Cement',\n",
       " 'Slag/Ash',\n",
       " 'Slag*Ash',\n",
       " 'Slag/Water',\n",
       " 'Slag*Water']"
      ]
     },
     "metadata": {},
     "execution_count": 8
    }
   ],
   "metadata": {}
  },
  {
   "cell_type": "markdown",
   "source": [
    "## __Feature Selection__:\r\n",
    "Now that we've helped out our estimators, it's time to whittle down our features to avoid the Curse of Dimensionality.\r\n",
    "We'll use an approach called Recursive Feature Elimination(RFE), which helps use choose the features to keep by training a model using a subset of the features,removing the least significant feature(in the case of a linear regression model, the least significant feature will be the one with the smallest coefficient) and repeating until we have the desired number of features."
   ],
   "metadata": {}
  },
  {
   "cell_type": "code",
   "execution_count": 9,
   "source": [
    "from featureSelection import *\r\n",
    "df = selectFeatures()\r\n",
    "df.head(10)"
   ],
   "outputs": [
    {
     "output_type": "execute_result",
     "data": {
      "text/plain": [
       "    Cement/FineAgg  Slag*Plasticizer  ...  Age*Cement  CompressiveStrength\n",
       "0         0.890341               0.0  ...  122.963409                79.99\n",
       "1         0.890341               0.0  ...  122.963409                61.89\n",
       "5         0.627666               0.0  ...  154.725563                47.03\n",
       "7         0.796563               0.0  ...  103.150376                36.45\n",
       "8         0.627666               0.0  ...   86.301796                45.85\n",
       "9         0.890585               0.0  ...  115.325626                39.29\n",
       "10        0.488790               0.0  ...  133.693680                38.07\n",
       "11        0.488790               0.0  ...   74.570772                28.02\n",
       "13        0.530475               0.0  ...  130.766968                42.33\n",
       "14        0.671004               0.0  ...   92.260501                47.81\n",
       "\n",
       "[10 rows x 13 columns]"
      ],
      "text/html": [
       "<div>\n",
       "<style scoped>\n",
       "    .dataframe tbody tr th:only-of-type {\n",
       "        vertical-align: middle;\n",
       "    }\n",
       "\n",
       "    .dataframe tbody tr th {\n",
       "        vertical-align: top;\n",
       "    }\n",
       "\n",
       "    .dataframe thead th {\n",
       "        text-align: right;\n",
       "    }\n",
       "</style>\n",
       "<table border=\"1\" class=\"dataframe\">\n",
       "  <thead>\n",
       "    <tr style=\"text-align: right;\">\n",
       "      <th></th>\n",
       "      <th>Cement/FineAgg</th>\n",
       "      <th>Slag*Plasticizer</th>\n",
       "      <th>Water/Cement</th>\n",
       "      <th>Water/Slag</th>\n",
       "      <th>Plasticizer*Cement</th>\n",
       "      <th>Plasticizer*Age</th>\n",
       "      <th>CoarseAgg/Slag</th>\n",
       "      <th>CoarseAgg*FineAgg</th>\n",
       "      <th>CoarseAgg/Age</th>\n",
       "      <th>FineAgg*Water</th>\n",
       "      <th>Age/Cement</th>\n",
       "      <th>Age*Cement</th>\n",
       "      <th>CompressiveStrength</th>\n",
       "    </tr>\n",
       "  </thead>\n",
       "  <tbody>\n",
       "    <tr>\n",
       "      <th>0</th>\n",
       "      <td>0.890341</td>\n",
       "      <td>0.0</td>\n",
       "      <td>0.545376</td>\n",
       "      <td>127.279221</td>\n",
       "      <td>36.742346</td>\n",
       "      <td>8.3666</td>\n",
       "      <td>322.490310</td>\n",
       "      <td>838.474806</td>\n",
       "      <td>5.981455</td>\n",
       "      <td>330.925974</td>\n",
       "      <td>0.226734</td>\n",
       "      <td>122.963409</td>\n",
       "      <td>79.99</td>\n",
       "    </tr>\n",
       "    <tr>\n",
       "      <th>1</th>\n",
       "      <td>0.890341</td>\n",
       "      <td>0.0</td>\n",
       "      <td>0.545376</td>\n",
       "      <td>127.279221</td>\n",
       "      <td>36.742346</td>\n",
       "      <td>8.3666</td>\n",
       "      <td>324.807635</td>\n",
       "      <td>844.499852</td>\n",
       "      <td>6.024436</td>\n",
       "      <td>330.925974</td>\n",
       "      <td>0.226734</td>\n",
       "      <td>122.963409</td>\n",
       "      <td>61.89</td>\n",
       "    </tr>\n",
       "    <tr>\n",
       "      <th>5</th>\n",
       "      <td>0.627666</td>\n",
       "      <td>0.0</td>\n",
       "      <td>0.920178</td>\n",
       "      <td>1.401091</td>\n",
       "      <td>0.000000</td>\n",
       "      <td>0.0000</td>\n",
       "      <td>2.832741</td>\n",
       "      <td>790.215161</td>\n",
       "      <td>3.184438</td>\n",
       "      <td>390.845238</td>\n",
       "      <td>0.578130</td>\n",
       "      <td>154.725563</td>\n",
       "      <td>47.03</td>\n",
       "    </tr>\n",
       "    <tr>\n",
       "      <th>7</th>\n",
       "      <td>0.796563</td>\n",
       "      <td>0.0</td>\n",
       "      <td>0.770643</td>\n",
       "      <td>1.533460</td>\n",
       "      <td>0.000000</td>\n",
       "      <td>0.0000</td>\n",
       "      <td>3.100367</td>\n",
       "      <td>744.048386</td>\n",
       "      <td>5.662369</td>\n",
       "      <td>368.010869</td>\n",
       "      <td>0.270063</td>\n",
       "      <td>103.150376</td>\n",
       "      <td>36.45</td>\n",
       "    </tr>\n",
       "    <tr>\n",
       "      <th>8</th>\n",
       "      <td>0.627666</td>\n",
       "      <td>0.0</td>\n",
       "      <td>0.920178</td>\n",
       "      <td>1.401091</td>\n",
       "      <td>0.000000</td>\n",
       "      <td>0.0000</td>\n",
       "      <td>2.832741</td>\n",
       "      <td>790.215161</td>\n",
       "      <td>5.662369</td>\n",
       "      <td>390.845238</td>\n",
       "      <td>0.322466</td>\n",
       "      <td>86.301796</td>\n",
       "      <td>45.85</td>\n",
       "    </tr>\n",
       "    <tr>\n",
       "      <th>9</th>\n",
       "      <td>0.890585</td>\n",
       "      <td>0.0</td>\n",
       "      <td>0.689656</td>\n",
       "      <td>150.996689</td>\n",
       "      <td>0.000000</td>\n",
       "      <td>0.0000</td>\n",
       "      <td>305.286750</td>\n",
       "      <td>744.048386</td>\n",
       "      <td>5.662369</td>\n",
       "      <td>368.010869</td>\n",
       "      <td>0.241682</td>\n",
       "      <td>115.325626</td>\n",
       "      <td>39.29</td>\n",
       "    </tr>\n",
       "    <tr>\n",
       "      <th>10</th>\n",
       "      <td>0.488790</td>\n",
       "      <td>0.0</td>\n",
       "      <td>0.976315</td>\n",
       "      <td>1.193847</td>\n",
       "      <td>0.000000</td>\n",
       "      <td>0.0000</td>\n",
       "      <td>2.694984</td>\n",
       "      <td>898.704178</td>\n",
       "      <td>3.262744</td>\n",
       "      <td>398.115561</td>\n",
       "      <td>0.668437</td>\n",
       "      <td>133.693680</td>\n",
       "      <td>38.07</td>\n",
       "    </tr>\n",
       "    <tr>\n",
       "      <th>11</th>\n",
       "      <td>0.488790</td>\n",
       "      <td>0.0</td>\n",
       "      <td>0.976315</td>\n",
       "      <td>1.193847</td>\n",
       "      <td>0.000000</td>\n",
       "      <td>0.0000</td>\n",
       "      <td>2.694984</td>\n",
       "      <td>898.704178</td>\n",
       "      <td>5.801608</td>\n",
       "      <td>398.115561</td>\n",
       "      <td>0.372837</td>\n",
       "      <td>74.570772</td>\n",
       "      <td>28.02</td>\n",
       "    </tr>\n",
       "    <tr>\n",
       "      <th>13</th>\n",
       "      <td>0.530475</td>\n",
       "      <td>0.0</td>\n",
       "      <td>1.087555</td>\n",
       "      <td>1.087555</td>\n",
       "      <td>0.000000</td>\n",
       "      <td>0.0000</td>\n",
       "      <td>2.198831</td>\n",
       "      <td>790.215161</td>\n",
       "      <td>3.184438</td>\n",
       "      <td>390.845238</td>\n",
       "      <td>0.683290</td>\n",
       "      <td>130.766968</td>\n",
       "      <td>42.33</td>\n",
       "    </tr>\n",
       "    <tr>\n",
       "      <th>14</th>\n",
       "      <td>0.671004</td>\n",
       "      <td>0.0</td>\n",
       "      <td>0.861087</td>\n",
       "      <td>1.712408</td>\n",
       "      <td>0.000000</td>\n",
       "      <td>0.0000</td>\n",
       "      <td>3.462165</td>\n",
       "      <td>790.215161</td>\n",
       "      <td>5.662369</td>\n",
       "      <td>390.845238</td>\n",
       "      <td>0.301758</td>\n",
       "      <td>92.260501</td>\n",
       "      <td>47.81</td>\n",
       "    </tr>\n",
       "  </tbody>\n",
       "</table>\n",
       "</div>"
      ]
     },
     "metadata": {},
     "execution_count": 9
    }
   ],
   "metadata": {}
  },
  {
   "cell_type": "markdown",
   "source": [
    "It turns out the composite features we created earlier were the most useful!\r\n",
    "## __Model Performance__:\r\n",
    "Let's run our models now and compare their performance."
   ],
   "metadata": {}
  },
  {
   "cell_type": "code",
   "execution_count": 10,
   "source": [
    "from main import *\r\n",
    "print(\"These are our results before feature engineering and selection:\")\r\n",
    "print(\"************************************************************\")\r\n",
    "before = getScores(False)\r\n",
    "displayScores(before)\r\n",
    "print(\"************************************************************\")\r\n",
    "print(\"These are our results after feature engineering and selection:\")\r\n",
    "print(\"************************************************************\")\r\n",
    "after = getScores(True)\r\n",
    "displayScores(after)"
   ],
   "outputs": [
    {
     "output_type": "stream",
     "name": "stdout",
     "text": [
      "These are our results before feature engineering and selection:\n",
      "************************************************************\n",
      "SVM:Performance on Test Set\n",
      "R-Squared:-0.03 MeanAbsoluteError(MAE):7.67 MAE Adjusted(% Error):22\n",
      "------------------------\n",
      "KNN:Performance on Test Set\n",
      "R-Squared:0.52 MeanAbsoluteError(MAE):7.1 MAE Adjusted(% Error):20\n",
      "------------------------\n",
      "DecisionTree:Performance on Test Set\n",
      "R-Squared:0.8 MeanAbsoluteError(MAE):4.79 MAE Adjusted(% Error):13\n",
      "------------------------\n",
      "LinearRidge:Performance on Test Set\n",
      "R-Squared:0.32 MeanAbsoluteError(MAE):8.58 MAE Adjusted(% Error):23\n",
      "------------------------\n",
      "************************************************************\n",
      "These are our results after feature engineering and selection:\n",
      "************************************************************\n",
      "SVM:Performance on Test Set\n",
      "R-Squared:0.75 MeanAbsoluteError(MAE):5.76 MAE Adjusted(% Error):17\n",
      "------------------------\n",
      "KNN:Performance on Test Set\n",
      "R-Squared:0.84 MeanAbsoluteError(MAE):4.68 MAE Adjusted(% Error):13\n",
      "------------------------\n",
      "DecisionTree:Performance on Test Set\n",
      "R-Squared:0.84 MeanAbsoluteError(MAE):4.77 MAE Adjusted(% Error):14\n",
      "------------------------\n",
      "LinearRidge:Performance on Test Set\n",
      "R-Squared:0.76 MeanAbsoluteError(MAE):5.81 MAE Adjusted(% Error):17\n",
      "------------------------\n"
     ]
    }
   ],
   "metadata": {}
  },
  {
   "cell_type": "markdown",
   "source": [
    "AS you can see the performance of nearly every model improved significantly once we implemented our feature engineering. Notice, this was extremely general and the techniques we used here were hardly influenced by the type of our data. A more thoughtful approach, combined with some ensemble learning, will certainly yeild better results!"
   ],
   "metadata": {}
  }
 ],
 "metadata": {
  "orig_nbformat": 4,
  "language_info": {
   "name": "python",
   "version": "3.8.3",
   "mimetype": "text/x-python",
   "codemirror_mode": {
    "name": "ipython",
    "version": 3
   },
   "pygments_lexer": "ipython3",
   "nbconvert_exporter": "python",
   "file_extension": ".py"
  },
  "kernelspec": {
   "name": "python3",
   "display_name": "Python 3.8.3 64-bit"
  },
  "interpreter": {
   "hash": "1baa965d5efe3ac65b79dfc60c0d706280b1da80fedb7760faf2759126c4f253"
  }
 },
 "nbformat": 4,
 "nbformat_minor": 2
}